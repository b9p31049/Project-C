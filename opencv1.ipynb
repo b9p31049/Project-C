{
 "cells": [
  {
   "cell_type": "code",
   "execution_count": 1,
   "metadata": {},
   "outputs": [],
   "source": [
    "import cv2"
   ]
  },
  {
   "cell_type": "code",
   "execution_count": 7,
   "metadata": {},
   "outputs": [],
   "source": [
    "#画像の表示\n",
    "img = cv2.imread(\"Lenna.png\", 1)\n",
    "\n",
    "cv2.imshow(\"Window\", img)\n",
    "cv2.waitKey(0)\n",
    "cv2.destroyAllWindows()"
   ]
  },
  {
   "cell_type": "code",
   "execution_count": 6,
   "metadata": {},
   "outputs": [
    {
     "name": "stdout",
     "output_type": "stream",
     "text": [
      "height : 256 px\n",
      "width  : 256 px\n",
      "channel: 3\n"
     ]
    }
   ],
   "source": [
    "#情報の表示\n",
    "\n",
    "height, width, channel = img.shape[:3]\n",
    "print(\"height :\", height, \"px\")\n",
    "print(\"width  :\", width, \"px\")\n",
    "print(\"channel:\", channel)"
   ]
  },
  {
   "cell_type": "code",
   "execution_count": 8,
   "metadata": {},
   "outputs": [
    {
     "data": {
      "text/plain": [
       "array([[[125, 137, 225],\n",
       "        [125, 137, 225],\n",
       "        [123, 135, 223],\n",
       "        ...,\n",
       "        [133, 149, 238],\n",
       "        [121, 148, 239],\n",
       "        [ 97, 131, 221]],\n",
       "\n",
       "       [[124, 138, 226],\n",
       "        [124, 138, 226],\n",
       "        [122, 136, 224],\n",
       "        ...,\n",
       "        [123, 134, 224],\n",
       "        [124, 142, 231],\n",
       "        [119, 141, 229]],\n",
       "\n",
       "       [[122, 138, 227],\n",
       "        [123, 139, 228],\n",
       "        [120, 136, 225],\n",
       "        ...,\n",
       "        [141, 142, 233],\n",
       "        [142, 140, 229],\n",
       "        [124, 121, 207]],\n",
       "\n",
       "       ...,\n",
       "\n",
       "       [[ 60,  26,  91],\n",
       "        [ 66,  32,  97],\n",
       "        [ 62,  29,  96],\n",
       "        ...,\n",
       "        [ 68,  46, 134],\n",
       "        [ 74,  54, 149],\n",
       "        [ 75,  57, 156]],\n",
       "\n",
       "       [[ 58,  24,  89],\n",
       "        [ 63,  29,  94],\n",
       "        [ 60,  27,  94],\n",
       "        ...,\n",
       "        [ 78,  60, 151],\n",
       "        [ 82,  66, 167],\n",
       "        [ 80,  66, 171]],\n",
       "\n",
       "       [[ 57,  23,  88],\n",
       "        [ 60,  28,  93],\n",
       "        [ 61,  28,  95],\n",
       "        ...,\n",
       "        [ 86,  71, 163],\n",
       "        [ 85,  70, 175],\n",
       "        [ 80,  67, 175]]], dtype=uint8)"
      ]
     },
     "execution_count": 8,
     "metadata": {},
     "output_type": "execute_result"
    }
   ],
   "source": [
    "#図形の作成\n",
    "cv2.rectangle(img, (50, 50), (100, 100), (255, 0, 0))"
   ]
  },
  {
   "cell_type": "code",
   "execution_count": 9,
   "metadata": {},
   "outputs": [],
   "source": [
    "#図形の確認\n",
    "cv2.imshow(\"Rectangle\", img)\n",
    "\n",
    "cv2.waitKey(0)\n",
    "cv2.destroyAllWindows()"
   ]
  },
  {
   "cell_type": "code",
   "execution_count": 10,
   "metadata": {},
   "outputs": [],
   "source": [
    "#画像のトリミング\n",
    "img = img[50:150, 50:150]"
   ]
  },
  {
   "cell_type": "code",
   "execution_count": 11,
   "metadata": {},
   "outputs": [],
   "source": [
    "cv2.imshow(\"Trimming\", img)\n",
    "\n",
    "cv2.waitKey(0)\n",
    "cv2.destroyAllWindows()"
   ]
  },
  {
   "cell_type": "code",
   "execution_count": 12,
   "metadata": {},
   "outputs": [
    {
     "data": {
      "text/plain": [
       "True"
      ]
     },
     "execution_count": 12,
     "metadata": {},
     "output_type": "execute_result"
    }
   ],
   "source": [
    "#保存\n",
    "cv2.imwrite(\"Lenna_tm.png\", img)"
   ]
  },
  {
   "cell_type": "code",
   "execution_count": 19,
   "metadata": {},
   "outputs": [
    {
     "ename": "error",
     "evalue": "OpenCV(4.4.0) C:\\Users\\appveyor\\AppData\\Local\\Temp\\1\\pip-req-build-52oirelq\\opencv\\modules\\highgui\\src\\window.cpp:376: error: (-215:Assertion failed) size.width>0 && size.height>0 in function 'cv::imshow'\n",
     "output_type": "error",
     "traceback": [
      "\u001b[1;31m---------------------------------------------------------------------------\u001b[0m",
      "\u001b[1;31merror\u001b[0m                                     Traceback (most recent call last)",
      "\u001b[1;32m<ipython-input-19-e3fdd9582743>\u001b[0m in \u001b[0;36m<module>\u001b[1;34m\u001b[0m\n\u001b[0;32m      5\u001b[0m     \u001b[0mret\u001b[0m\u001b[1;33m,\u001b[0m \u001b[0mframe\u001b[0m \u001b[1;33m=\u001b[0m \u001b[0mcap\u001b[0m\u001b[1;33m.\u001b[0m\u001b[0mread\u001b[0m\u001b[1;33m(\u001b[0m\u001b[1;33m)\u001b[0m\u001b[1;33m\u001b[0m\u001b[1;33m\u001b[0m\u001b[0m\n\u001b[0;32m      6\u001b[0m \u001b[1;33m\u001b[0m\u001b[0m\n\u001b[1;32m----> 7\u001b[1;33m     \u001b[0mcv2\u001b[0m\u001b[1;33m.\u001b[0m\u001b[0mimshow\u001b[0m\u001b[1;33m(\u001b[0m\u001b[1;34m\"frame\"\u001b[0m\u001b[1;33m,\u001b[0m\u001b[0mframe\u001b[0m\u001b[1;33m)\u001b[0m\u001b[1;33m\u001b[0m\u001b[1;33m\u001b[0m\u001b[0m\n\u001b[0m\u001b[0;32m      8\u001b[0m \u001b[1;33m\u001b[0m\u001b[0m\n\u001b[0;32m      9\u001b[0m     \u001b[0mk\u001b[0m \u001b[1;33m=\u001b[0m  \u001b[0mcv2\u001b[0m\u001b[1;33m.\u001b[0m\u001b[0mwaitKey\u001b[0m\u001b[1;33m(\u001b[0m\u001b[1;36m1\u001b[0m\u001b[1;33m)\u001b[0m \u001b[1;33m&\u001b[0m \u001b[1;36m0xFF\u001b[0m \u001b[1;31m# 64ビットマシンの場合,& 0xFFが必要\u001b[0m\u001b[1;33m\u001b[0m\u001b[1;33m\u001b[0m\u001b[0m\n",
      "\u001b[1;31merror\u001b[0m: OpenCV(4.4.0) C:\\Users\\appveyor\\AppData\\Local\\Temp\\1\\pip-req-build-52oirelq\\opencv\\modules\\highgui\\src\\window.cpp:376: error: (-215:Assertion failed) size.width>0 && size.height>0 in function 'cv::imshow'\n"
     ]
    }
   ],
   "source": []
  },
  {
   "cell_type": "code",
   "execution_count": null,
   "metadata": {},
   "outputs": [],
   "source": []
  }
 ],
 "metadata": {
  "kernelspec": {
   "display_name": "Python 3",
   "language": "python",
   "name": "python3"
  },
  "language_info": {
   "codemirror_mode": {
    "name": "ipython",
    "version": 3
   },
   "file_extension": ".py",
   "mimetype": "text/x-python",
   "name": "python",
   "nbconvert_exporter": "python",
   "pygments_lexer": "ipython3",
   "version": "3.7.4"
  }
 },
 "nbformat": 4,
 "nbformat_minor": 4
}
